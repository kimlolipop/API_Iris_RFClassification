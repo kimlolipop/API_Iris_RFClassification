{
  "nbformat": 4,
  "nbformat_minor": 0,
  "metadata": {
    "colab": {
      "name": "DecisionTreeClassifier_Iris.ipynb",
      "provenance": [],
      "collapsed_sections": []
    },
    "kernelspec": {
      "name": "python3",
      "display_name": "Python 3"
    }
  },
  "cells": [
    {
      "cell_type": "code",
      "metadata": {
        "colab": {
          "base_uri": "https://localhost:8080/"
        },
        "id": "J_Y7wFPoSeBV",
        "outputId": "4ab15b78-950d-4127-83d1-06f99848f95b"
      },
      "source": [
        "!pip install --upgrade scikit-learn"
      ],
      "execution_count": 24,
      "outputs": [
        {
          "output_type": "stream",
          "text": [
            "Requirement already up-to-date: sklearn in /usr/local/lib/python3.6/dist-packages (0.0)\n",
            "Requirement already satisfied, skipping upgrade: scikit-learn in /usr/local/lib/python3.6/dist-packages (from sklearn) (0.22.2.post1)\n",
            "Requirement already satisfied, skipping upgrade: scipy>=0.17.0 in /usr/local/lib/python3.6/dist-packages (from scikit-learn->sklearn) (1.4.1)\n",
            "Requirement already satisfied, skipping upgrade: joblib>=0.11 in /usr/local/lib/python3.6/dist-packages (from scikit-learn->sklearn) (1.0.0)\n",
            "Requirement already satisfied, skipping upgrade: numpy>=1.11.0 in /usr/local/lib/python3.6/dist-packages (from scikit-learn->sklearn) (1.19.5)\n"
          ],
          "name": "stdout"
        }
      ]
    },
    {
      "cell_type": "code",
      "metadata": {
        "id": "KgbWODmdfBdx"
      },
      "source": [
        "from sklearn.datasets import load_iris\n",
        "# from sklearn.linear_model import LogisticRegression\n",
        "# from sklearn.linear_model import LogisticRegression\n",
        "# from sklearn.naive_bayes import GaussianNB\n",
        "from sklearn.tree import DecisionTreeClassifier\n",
        "\n",
        "from sklearn.model_selection import train_test_split\n",
        "from sklearn.metrics import accuracy_score\n",
        "import joblib\n",
        "import numpy as np\n",
        "import pandas as pd"
      ],
      "execution_count": 2,
      "outputs": []
    },
    {
      "cell_type": "code",
      "metadata": {
        "id": "-SpWCJcqfipW"
      },
      "source": [
        "iris = load_iris()\n",
        "x, y = iris['data'], iris['target']"
      ],
      "execution_count": 3,
      "outputs": []
    },
    {
      "cell_type": "code",
      "metadata": {
        "id": "NaVav-U2iNZu",
        "colab": {
          "base_uri": "https://localhost:8080/"
        },
        "outputId": "63e159cc-1f12-48df-b082-32df67f77292"
      },
      "source": [
        "y"
      ],
      "execution_count": 4,
      "outputs": [
        {
          "output_type": "execute_result",
          "data": {
            "text/plain": [
              "array([0, 0, 0, 0, 0, 0, 0, 0, 0, 0, 0, 0, 0, 0, 0, 0, 0, 0, 0, 0, 0, 0,\n",
              "       0, 0, 0, 0, 0, 0, 0, 0, 0, 0, 0, 0, 0, 0, 0, 0, 0, 0, 0, 0, 0, 0,\n",
              "       0, 0, 0, 0, 0, 0, 1, 1, 1, 1, 1, 1, 1, 1, 1, 1, 1, 1, 1, 1, 1, 1,\n",
              "       1, 1, 1, 1, 1, 1, 1, 1, 1, 1, 1, 1, 1, 1, 1, 1, 1, 1, 1, 1, 1, 1,\n",
              "       1, 1, 1, 1, 1, 1, 1, 1, 1, 1, 1, 1, 2, 2, 2, 2, 2, 2, 2, 2, 2, 2,\n",
              "       2, 2, 2, 2, 2, 2, 2, 2, 2, 2, 2, 2, 2, 2, 2, 2, 2, 2, 2, 2, 2, 2,\n",
              "       2, 2, 2, 2, 2, 2, 2, 2, 2, 2, 2, 2, 2, 2, 2, 2, 2, 2])"
            ]
          },
          "metadata": {
            "tags": []
          },
          "execution_count": 4
        }
      ]
    },
    {
      "cell_type": "code",
      "metadata": {
        "id": "YYmHkv1hf09z"
      },
      "source": [
        "dataset = np.hstack((x, y.reshape(-1,1))) #เอาข้อมูล y มาต่อ test\n",
        "np.random.shuffle(dataset)\n",
        "x_train, x_test, y_train, y_test = train_test_split(dataset[:,:4],\n",
        "                                                    dataset[:,4],\n",
        "                                                    test_size = 0.2)\n"
      ],
      "execution_count": 5,
      "outputs": []
    },
    {
      "cell_type": "code",
      "metadata": {
        "id": "w8eLSzoHf1w7"
      },
      "source": [
        "# model = LogisticRegression()\n",
        "model = DecisionTreeClassifier()\n",
        "model.fit(x_train,y_train)\n",
        "y_pred = model.predict(x_test)"
      ],
      "execution_count": 6,
      "outputs": []
    },
    {
      "cell_type": "code",
      "metadata": {
        "id": "CqY5GzkJf2ez",
        "colab": {
          "base_uri": "https://localhost:8080/"
        },
        "outputId": "47621473-af66-4261-f546-b744af168776"
      },
      "source": [
        "accuracy_score(y_test,y_pred)"
      ],
      "execution_count": 7,
      "outputs": [
        {
          "output_type": "execute_result",
          "data": {
            "text/plain": [
              "1.0"
            ]
          },
          "metadata": {
            "tags": []
          },
          "execution_count": 7
        }
      ]
    },
    {
      "cell_type": "code",
      "metadata": {
        "id": "umwtBBRogOSk",
        "colab": {
          "base_uri": "https://localhost:8080/"
        },
        "outputId": "c8b7b221-cfaa-43f3-9fdc-cc8e1bd44a3e"
      },
      "source": [
        "joblib.dump(model,'iris.model')"
      ],
      "execution_count": 8,
      "outputs": [
        {
          "output_type": "execute_result",
          "data": {
            "text/plain": [
              "['iris.model']"
            ]
          },
          "metadata": {
            "tags": []
          },
          "execution_count": 8
        }
      ]
    },
    {
      "cell_type": "code",
      "metadata": {
        "id": "RyAXciiSn8WG",
        "colab": {
          "base_uri": "https://localhost:8080/"
        },
        "outputId": "81dab454-2318-426e-fab5-1faf55fb490b"
      },
      "source": [
        "model.predict(np.array([[6.1, 3, 4.6, 1.4]]))"
      ],
      "execution_count": 19,
      "outputs": [
        {
          "output_type": "execute_result",
          "data": {
            "text/plain": [
              "array([1.])"
            ]
          },
          "metadata": {
            "tags": []
          },
          "execution_count": 19
        }
      ]
    },
    {
      "cell_type": "code",
      "metadata": {
        "colab": {
          "base_uri": "https://localhost:8080/"
        },
        "id": "wtQpOZ7YMMEJ",
        "outputId": "199d5188-535e-487e-b92c-ff5f1ea78916"
      },
      "source": [
        "x_test"
      ],
      "execution_count": 16,
      "outputs": [
        {
          "output_type": "execute_result",
          "data": {
            "text/plain": [
              "array([[6.8, 3. , 5.5, 2.1],\n",
              "       [5.2, 2.7, 3.9, 1.4],\n",
              "       [6. , 2.2, 5. , 1.5],\n",
              "       [6.6, 2.9, 4.6, 1.3],\n",
              "       [5.5, 4.2, 1.4, 0.2],\n",
              "       [5. , 3.4, 1.5, 0.2],\n",
              "       [6.5, 3. , 5.5, 1.8],\n",
              "       [7.3, 2.9, 6.3, 1.8],\n",
              "       [5.5, 2.3, 4. , 1.3],\n",
              "       [6.2, 2.2, 4.5, 1.5],\n",
              "       [6.4, 2.8, 5.6, 2.2],\n",
              "       [5.8, 2.7, 5.1, 1.9],\n",
              "       [6.7, 3.3, 5.7, 2.1],\n",
              "       [7.2, 3. , 5.8, 1.6],\n",
              "       [5. , 2.3, 3.3, 1. ],\n",
              "       [4.6, 3.6, 1. , 0.2],\n",
              "       [6.1, 3. , 4.6, 1.4],\n",
              "       [5.7, 4.4, 1.5, 0.4],\n",
              "       [6.3, 2.3, 4.4, 1.3],\n",
              "       [5.1, 3.5, 1.4, 0.2],\n",
              "       [6. , 3.4, 4.5, 1.6],\n",
              "       [4.9, 3.1, 1.5, 0.1],\n",
              "       [4.7, 3.2, 1.6, 0.2],\n",
              "       [6.5, 2.8, 4.6, 1.5],\n",
              "       [4.9, 2.4, 3.3, 1. ],\n",
              "       [4.6, 3.2, 1.4, 0.2],\n",
              "       [5. , 3.6, 1.4, 0.2],\n",
              "       [4.5, 2.3, 1.3, 0.3],\n",
              "       [5.3, 3.7, 1.5, 0.2],\n",
              "       [5.8, 2.8, 5.1, 2.4]])"
            ]
          },
          "metadata": {
            "tags": []
          },
          "execution_count": 16
        }
      ]
    },
    {
      "cell_type": "code",
      "metadata": {
        "id": "hwRUesbkMSxB"
      },
      "source": [
        "model = joblib.load(\"iris.model\")"
      ],
      "execution_count": 21,
      "outputs": []
    },
    {
      "cell_type": "code",
      "metadata": {
        "colab": {
          "base_uri": "https://localhost:8080/"
        },
        "id": "Kh7k_zvfNxGq",
        "outputId": "7548a7c1-8824-48e3-e20d-cea386626130"
      },
      "source": [
        "model.predict(np.array([[6.1, 3, 4.6, 1.4]]))"
      ],
      "execution_count": 22,
      "outputs": [
        {
          "output_type": "execute_result",
          "data": {
            "text/plain": [
              "array([1.])"
            ]
          },
          "metadata": {
            "tags": []
          },
          "execution_count": 22
        }
      ]
    },
    {
      "cell_type": "code",
      "metadata": {
        "id": "zWrHhWxsN1DR"
      },
      "source": [
        ""
      ],
      "execution_count": 8,
      "outputs": []
    },
    {
      "cell_type": "code",
      "metadata": {
        "id": "OVr118-9Tk8E"
      },
      "source": [
        ""
      ],
      "execution_count": 8,
      "outputs": []
    },
    {
      "cell_type": "code",
      "metadata": {
        "id": "WDJZSHcTT_EN"
      },
      "source": [
        ""
      ],
      "execution_count": 8,
      "outputs": []
    },
    {
      "cell_type": "code",
      "metadata": {
        "id": "UjGFUXdJUrRz"
      },
      "source": [
        ""
      ],
      "execution_count": null,
      "outputs": []
    }
  ]
}